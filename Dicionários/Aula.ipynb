{
  "cells": [
    {
      "cell_type": "markdown",
      "metadata": {
        "id": "lNp33mwpsFjX"
      },
      "source": [
        "# **Dicionários**"
      ]
    },
    {
      "cell_type": "markdown",
      "metadata": {
        "id": "OjpDDt4esKSx"
      },
      "source": [
        "*   Um dicionário é um conjunto de pares chave-valor, onde as chaves são únicas e não estão em uma ordem específica.\n",
        "*   Ele é delimitado por chaves {} e contém pares de chave-valor separados por vírgulas."
      ]
    },
    {
      "cell_type": "code",
      "execution_count": 2,
      "metadata": {
        "id": "euZqhPzCssaL"
      },
      "outputs": [],
      "source": [
        "pessoa = {\"nome\": \"Ana Palloma\", \"idade\": 31}"
      ]
    },
    {
      "cell_type": "code",
      "execution_count": 3,
      "metadata": {
        "id": "XtX44uZzszGS"
      },
      "outputs": [],
      "source": [
        "pessoa = dict(nome = \"Ana Palloma\", idade = 31)"
      ]
    },
    {
      "cell_type": "code",
      "execution_count": 4,
      "metadata": {
        "id": "_oRlnKJxs8gq"
      },
      "outputs": [],
      "source": [
        "pessoa[\"telefone\"] = 553899000-0000"
      ]
    },
    {
      "cell_type": "code",
      "execution_count": 5,
      "metadata": {
        "colab": {
          "base_uri": "https://localhost:8080/"
        },
        "id": "aiLS0rHAtGhq",
        "outputId": "578dd47e-d85a-464b-fd68-f9435653a355"
      },
      "outputs": [
        {
          "data": {
            "text/plain": [
              "{'nome': 'Ana Palloma', 'idade': 31, 'telefone': 553899000}"
            ]
          },
          "execution_count": 5,
          "metadata": {},
          "output_type": "execute_result"
        }
      ],
      "source": [
        "pessoa"
      ]
    },
    {
      "cell_type": "markdown",
      "metadata": {
        "id": "dgdB-8cUtKeG"
      },
      "source": [
        "**Acesso aos dados** <br><br>\n",
        "Os dados são acessados e modificados através de chaves."
      ]
    },
    {
      "cell_type": "code",
      "execution_count": 6,
      "metadata": {
        "id": "zpXveJCWtdn2"
      },
      "outputs": [],
      "source": [
        "dados = {\"nome\": \"Ana Palloma\", \"idade\": 31, \"telefone\": 553899000}"
      ]
    },
    {
      "cell_type": "code",
      "execution_count": 7,
      "metadata": {
        "colab": {
          "base_uri": "https://localhost:8080/",
          "height": 35
        },
        "id": "L7-SGVRttzLA",
        "outputId": "b41afab2-6d2f-4054-8c58-e8be04275e6b"
      },
      "outputs": [
        {
          "data": {
            "application/vnd.google.colaboratory.intrinsic+json": {
              "type": "string"
            },
            "text/plain": [
              "'Ana Palloma'"
            ]
          },
          "execution_count": 7,
          "metadata": {},
          "output_type": "execute_result"
        }
      ],
      "source": [
        "dados[\"nome\"]"
      ]
    },
    {
      "cell_type": "code",
      "execution_count": 8,
      "metadata": {
        "colab": {
          "base_uri": "https://localhost:8080/"
        },
        "id": "vADvgAdVt17Z",
        "outputId": "d154fa77-5c35-4736-9f07-90829f12385c"
      },
      "outputs": [
        {
          "data": {
            "text/plain": [
              "31"
            ]
          },
          "execution_count": 8,
          "metadata": {},
          "output_type": "execute_result"
        }
      ],
      "source": [
        "dados[\"idade\"]"
      ]
    },
    {
      "cell_type": "code",
      "execution_count": 9,
      "metadata": {
        "colab": {
          "base_uri": "https://localhost:8080/"
        },
        "id": "4jEm_L2At3zO",
        "outputId": "ed767290-2d1d-46fd-ab32-b52b77a6ce87"
      },
      "outputs": [
        {
          "data": {
            "text/plain": [
              "553899000"
            ]
          },
          "execution_count": 9,
          "metadata": {},
          "output_type": "execute_result"
        }
      ],
      "source": [
        "dados[\"telefone\"]"
      ]
    },
    {
      "cell_type": "code",
      "execution_count": 10,
      "metadata": {
        "id": "7l9JS4qYt8We"
      },
      "outputs": [],
      "source": [
        "dados[\"nome\"] = \"Heverth\""
      ]
    },
    {
      "cell_type": "code",
      "execution_count": 11,
      "metadata": {
        "colab": {
          "base_uri": "https://localhost:8080/"
        },
        "id": "bLXO8XT5t_j-",
        "outputId": "d345fcd1-d2fa-4202-b0e5-398255b35527"
      },
      "outputs": [
        {
          "data": {
            "text/plain": [
              "{'nome': 'Heverth', 'idade': 31, 'telefone': 553899000}"
            ]
          },
          "execution_count": 11,
          "metadata": {},
          "output_type": "execute_result"
        }
      ],
      "source": [
        "dados"
      ]
    },
    {
      "cell_type": "markdown",
      "metadata": {
        "id": "7L71FCxeuMLd"
      },
      "source": [
        "**Dicionários aninhados** <br><br>\n",
        "Dicionários podem armazenar qualquer tipo de objeto Python como valor, contanto que a chave seja um objeto imutável, como strings ou números."
      ]
    },
    {
      "cell_type": "code",
      "execution_count": 1,
      "metadata": {
        "id": "C3XnQ8rRuakG"
      },
      "outputs": [],
      "source": [
        "contatos = {\n",
        "    \"anapallomarocha@gmail.com\": {\"nome\": \"Ana Palloma\", \"telefone\": \"3740-0000\"},\n",
        "    \"guilherme@gmail.com\": {\"nome\": \"Guilherme\", \"telefone\": \"3333-2221\"},\n",
        "    \"giovanna@gmail.com\": {\"nome\": \"Giovanna\", \"telefone\": \"3443-2121\"},\n",
        "    \"chappie@gmail.com\": {\"nome\": \"Chappie\", \"telefone\": \"3344-9871\"},\n",
        "    \"melaine@gmail.com\": {\"nome\": \"Melaine\", \"telefone\": \"3333-7766\"},\n",
        "}"
      ]
    },
    {
      "cell_type": "code",
      "execution_count": 16,
      "metadata": {
        "colab": {
          "base_uri": "https://localhost:8080/",
          "height": 35
        },
        "id": "7XY86EFgu8S3",
        "outputId": "2b07b981-8c9a-49ca-84cf-e10ac14a33e8"
      },
      "outputs": [
        {
          "data": {
            "application/vnd.google.colaboratory.intrinsic+json": {
              "type": "string"
            },
            "text/plain": [
              "'3740-0000'"
            ]
          },
          "execution_count": 16,
          "metadata": {},
          "output_type": "execute_result"
        }
      ],
      "source": [
        "contatos[\"anapallomarocha@gmail.com\"][\"telefone\"]"
      ]
    },
    {
      "cell_type": "markdown",
      "metadata": {
        "id": "7U26mEApvg2W"
      },
      "source": [
        "**Iterar dicionários** <br> <br>\n",
        "A forma mais comum para percorrer os dados de um dicionário é utilizando o comando for."
      ]
    },
    {
      "cell_type": "code",
      "execution_count": 2,
      "metadata": {
        "colab": {
          "base_uri": "https://localhost:8080/"
        },
        "id": "NjxrVw5Lvpcz",
        "outputId": "338370d7-01c4-4683-d55f-98aaee6fd13b"
      },
      "outputs": [
        {
          "name": "stdout",
          "output_type": "stream",
          "text": [
            "anapallomarocha@gmail.com {'nome': 'Ana Palloma', 'telefone': '3740-0000'}\n",
            "guilherme@gmail.com {'nome': 'Guilherme', 'telefone': '3333-2221'}\n",
            "giovanna@gmail.com {'nome': 'Giovanna', 'telefone': '3443-2121'}\n",
            "chappie@gmail.com {'nome': 'Chappie', 'telefone': '3344-9871'}\n",
            "melaine@gmail.com {'nome': 'Melaine', 'telefone': '3333-7766'}\n"
          ]
        }
      ],
      "source": [
        "# Para cada chave, precisamos acessar o valor correspondente usando contatos[chave]. \n",
        "for chave in contatos:\n",
        "  print(chave, contatos[chave])"
      ]
    },
    {
      "cell_type": "code",
      "execution_count": 3,
      "metadata": {},
      "outputs": [
        {
          "name": "stdout",
          "output_type": "stream",
          "text": [
            "anapallomarocha@gmail.com {'nome': 'Ana Palloma', 'telefone': '3740-0000'}\n",
            "guilherme@gmail.com {'nome': 'Guilherme', 'telefone': '3333-2221'}\n",
            "giovanna@gmail.com {'nome': 'Giovanna', 'telefone': '3443-2121'}\n",
            "chappie@gmail.com {'nome': 'Chappie', 'telefone': '3344-9871'}\n",
            "melaine@gmail.com {'nome': 'Melaine', 'telefone': '3333-7766'}\n"
          ]
        }
      ],
      "source": [
        "# A função .items() retorna tanto a chave quanto o valor em cada iteração.\n",
        "\n",
        "for chave, valor in contatos.items():\n",
        "    print(chave, valor)"
      ]
    },
    {
      "cell_type": "markdown",
      "metadata": {},
      "source": [
        "# **Métodos da classe Dict**"
      ]
    },
    {
      "cell_type": "markdown",
      "metadata": {},
      "source": [
        "**{}.clear**"
      ]
    },
    {
      "cell_type": "code",
      "execution_count": 6,
      "metadata": {},
      "outputs": [
        {
          "data": {
            "text/plain": [
              "{}"
            ]
          },
          "execution_count": 6,
          "metadata": {},
          "output_type": "execute_result"
        }
      ],
      "source": [
        "contatos = {\n",
        "    \"anapallomarocha@gmail.com\": {\"nome\": \"Ana Palloma\", \"telefone\": \"3740-0000\"},\n",
        "    \"guilherme@gmail.com\": {\"nome\": \"Guilherme\", \"telefone\": \"3333-2221\"},\n",
        "    \"giovanna@gmail.com\": {\"nome\": \"Giovanna\", \"telefone\": \"3443-2121\"},\n",
        "    \"chappie@gmail.com\": {\"nome\": \"Chappie\", \"telefone\": \"3344-9871\"},\n",
        "    \"melaine@gmail.com\": {\"nome\": \"Melaine\", \"telefone\": \"3333-7766\"},\n",
        "}\n",
        "\n",
        "contatos.clear()\n",
        "contatos"
      ]
    },
    {
      "cell_type": "markdown",
      "metadata": {},
      "source": [
        "**{}.copy**"
      ]
    },
    {
      "cell_type": "code",
      "execution_count": 7,
      "metadata": {},
      "outputs": [],
      "source": [
        "contatos = {\n",
        "    \"anapallomarocha@gmail.com\": {\"nome\": \"Ana\", \"telefone\": \"3333-2221\"}\n",
        "}"
      ]
    },
    {
      "cell_type": "code",
      "execution_count": 8,
      "metadata": {},
      "outputs": [],
      "source": [
        "copia = contatos.copy()\n",
        "copia[\"anapallomarocha@gmail.com\"] = {\"nome\": \"Ana Palloma\"}"
      ]
    },
    {
      "cell_type": "code",
      "execution_count": 9,
      "metadata": {},
      "outputs": [
        {
          "data": {
            "text/plain": [
              "{'nome': 'Ana', 'telefone': '3333-2221'}"
            ]
          },
          "execution_count": 9,
          "metadata": {},
          "output_type": "execute_result"
        }
      ],
      "source": [
        "contatos[\"anapallomarocha@gmail.com\"]  "
      ]
    },
    {
      "cell_type": "code",
      "execution_count": 10,
      "metadata": {},
      "outputs": [
        {
          "data": {
            "text/plain": [
              "{'nome': 'Ana Palloma'}"
            ]
          },
          "execution_count": 10,
          "metadata": {},
          "output_type": "execute_result"
        }
      ],
      "source": [
        "copia[\"anapallomarocha@gmail.com\"]  "
      ]
    },
    {
      "cell_type": "markdown",
      "metadata": {},
      "source": [
        "**{}.fromkeys**<br> <br>\n",
        "Gera um dicionário onde cada chave na sequência é associada ao valor especificado. Se um valor não for fornecido, o padrão será None."
      ]
    },
    {
      "cell_type": "code",
      "execution_count": 11,
      "metadata": {},
      "outputs": [
        {
          "data": {
            "text/plain": [
              "{'nome': None, 'telefone': None}"
            ]
          },
          "execution_count": 11,
          "metadata": {},
          "output_type": "execute_result"
        }
      ],
      "source": [
        "dict.fromkeys([\"nome\", \"telefone\"])  "
      ]
    },
    {
      "cell_type": "code",
      "execution_count": 12,
      "metadata": {},
      "outputs": [
        {
          "data": {
            "text/plain": [
              "{'nome': 'vazio', 'telefone': 'vazio'}"
            ]
          },
          "execution_count": 12,
          "metadata": {},
          "output_type": "execute_result"
        }
      ],
      "source": [
        "dict.fromkeys([\"nome\", \"telefone\"], \"vazio\")  "
      ]
    },
    {
      "cell_type": "markdown",
      "metadata": {},
      "source": [
        "**{}.get** <br><br>\n",
        "Acessa o valor associado a uma chave específica em um dicionário. A principal vantagem do get() é que ele permite especificar um valor padrão a ser retornado caso a chave não exista, evitando assim a geração de um erro KeyError."
      ]
    },
    {
      "cell_type": "code",
      "execution_count": 1,
      "metadata": {},
      "outputs": [],
      "source": [
        "contatos = {\n",
        "    \"anapallomarocha@gmail.com\": {\"nome\": \"Ana Palloma\", \"telefone\": \"3333-2221\"}\n",
        "}"
      ]
    },
    {
      "cell_type": "code",
      "execution_count": 2,
      "metadata": {},
      "outputs": [
        {
          "ename": "KeyError",
          "evalue": "'chave'",
          "output_type": "error",
          "traceback": [
            "\u001b[1;31m---------------------------------------------------------------------------\u001b[0m",
            "\u001b[1;31mKeyError\u001b[0m                                  Traceback (most recent call last)",
            "Cell \u001b[1;32mIn[2], line 1\u001b[0m\n\u001b[1;32m----> 1\u001b[0m \u001b[43mcontatos\u001b[49m\u001b[43m[\u001b[49m\u001b[38;5;124;43m\"\u001b[39;49m\u001b[38;5;124;43mchave\u001b[39;49m\u001b[38;5;124;43m\"\u001b[39;49m\u001b[43m]\u001b[49m\n",
            "\u001b[1;31mKeyError\u001b[0m: 'chave'"
          ]
        }
      ],
      "source": [
        "contatos[\"chave\"]"
      ]
    },
    {
      "cell_type": "code",
      "execution_count": 3,
      "metadata": {},
      "outputs": [],
      "source": [
        "contatos.get(\"chave\")  "
      ]
    },
    {
      "cell_type": "code",
      "execution_count": 4,
      "metadata": {},
      "outputs": [
        {
          "data": {
            "text/plain": [
              "'Chave não encontrada'"
            ]
          },
          "execution_count": 4,
          "metadata": {},
          "output_type": "execute_result"
        }
      ],
      "source": [
        "contatos.get(\"chave\", \"Chave não encontrada\")  "
      ]
    },
    {
      "cell_type": "code",
      "execution_count": 8,
      "metadata": {},
      "outputs": [
        {
          "data": {
            "text/plain": [
              "{'nome': 'Ana Palloma', 'telefone': '3333-2221'}"
            ]
          },
          "execution_count": 8,
          "metadata": {},
          "output_type": "execute_result"
        }
      ],
      "source": [
        "contatos.get(\"anapallomarocha@gmail.com\", {})"
      ]
    },
    {
      "cell_type": "markdown",
      "metadata": {},
      "source": [
        "**{}.items** <br> <br>\n",
        "\n",
        "Retorna uma visão dos pares de chave-valor contidos em um dicionário. "
      ]
    },
    {
      "cell_type": "code",
      "execution_count": 10,
      "metadata": {},
      "outputs": [
        {
          "data": {
            "text/plain": [
              "dict_items([('anapallomarocha@gmail.com', {'nome': 'Ana Palloma', 'telefone': '3333-2221'})])"
            ]
          },
          "execution_count": 10,
          "metadata": {},
          "output_type": "execute_result"
        }
      ],
      "source": [
        "contatos.items()"
      ]
    },
    {
      "cell_type": "markdown",
      "metadata": {},
      "source": [
        "**{}.keys**<br><br>\n",
        "Retorna uma visão das chaves contidas em um dicionário. "
      ]
    },
    {
      "cell_type": "code",
      "execution_count": 13,
      "metadata": {},
      "outputs": [
        {
          "data": {
            "text/plain": [
              "dict_keys(['anapallomarocha@gmail.com'])"
            ]
          },
          "execution_count": 13,
          "metadata": {},
          "output_type": "execute_result"
        }
      ],
      "source": [
        "contatos.keys()"
      ]
    },
    {
      "cell_type": "markdown",
      "metadata": {},
      "source": [
        "**{}.values**<br>\n",
        "Retorna uma visão dos valores contidos em um dicionário."
      ]
    },
    {
      "cell_type": "code",
      "execution_count": 39,
      "metadata": {},
      "outputs": [
        {
          "data": {
            "text/plain": [
              "dict_values(['Ana Palloma', '3333-2221'])"
            ]
          },
          "execution_count": 39,
          "metadata": {},
          "output_type": "execute_result"
        }
      ],
      "source": [
        "contato = {'nome': 'Ana Palloma', 'telefone': '3333-2221'}\n",
        "\n",
        "contato.values()"
      ]
    },
    {
      "cell_type": "markdown",
      "metadata": {},
      "source": [
        "**{}.pop**"
      ]
    },
    {
      "cell_type": "code",
      "execution_count": 24,
      "metadata": {},
      "outputs": [
        {
          "data": {
            "text/plain": [
              "{'anapallomarocha@gmail.com': {'nome': 'Ana Palloma', 'telefone': '3740-0000'},\n",
              " 'guilherme@gmail.com': {'nome': 'Guilherme', 'telefone': '3333-2221'},\n",
              " 'giovanna@gmail.com': {'nome': 'Giovanna', 'telefone': '3443-2121'},\n",
              " 'melaine@gmail.com': {'nome': 'Melaine', 'telefone': '3333-7766'}}"
            ]
          },
          "execution_count": 24,
          "metadata": {},
          "output_type": "execute_result"
        }
      ],
      "source": [
        "contatos = {\n",
        "    \"anapallomarocha@gmail.com\": {\"nome\": \"Ana Palloma\", \"telefone\": \"3740-0000\"},\n",
        "    \"guilherme@gmail.com\": {\"nome\": \"Guilherme\", \"telefone\": \"3333-2221\"},\n",
        "    \"giovanna@gmail.com\": {\"nome\": \"Giovanna\", \"telefone\": \"3443-2121\"},\n",
        "    \"chappie@gmail.com\": {\"nome\": \"Chappie\", \"telefone\": \"3344-9871\"},\n",
        "    \"melaine@gmail.com\": {\"nome\": \"Melaine\", \"telefone\": \"3333-7766\"},\n",
        "}\n",
        "\n",
        "contatos.pop(\"chappie@gmail.com\")\n",
        "contatos"
      ]
    },
    {
      "cell_type": "code",
      "execution_count": 26,
      "metadata": {},
      "outputs": [
        {
          "data": {
            "text/plain": [
              "'Chave não encontrada'"
            ]
          },
          "execution_count": 26,
          "metadata": {},
          "output_type": "execute_result"
        }
      ],
      "source": [
        "contatos.pop(\"chappie@gmail.com\", \"Chave não encontrada\")"
      ]
    },
    {
      "cell_type": "markdown",
      "metadata": {},
      "source": [
        "**{}.popitem**"
      ]
    },
    {
      "cell_type": "code",
      "execution_count": 29,
      "metadata": {},
      "outputs": [
        {
          "data": {
            "text/plain": [
              "{'anapallomarocha@gmail.com': {'nome': 'Ana Palloma', 'telefone': '3740-0000'},\n",
              " 'guilherme@gmail.com': {'nome': 'Guilherme', 'telefone': '3333-2221'},\n",
              " 'giovanna@gmail.com': {'nome': 'Giovanna', 'telefone': '3443-2121'},\n",
              " 'chappie@gmail.com': {'nome': 'Chappie', 'telefone': '3344-9871'}}"
            ]
          },
          "execution_count": 29,
          "metadata": {},
          "output_type": "execute_result"
        }
      ],
      "source": [
        "contatos = {\n",
        "    \"anapallomarocha@gmail.com\": {\"nome\": \"Ana Palloma\", \"telefone\": \"3740-0000\"},\n",
        "    \"guilherme@gmail.com\": {\"nome\": \"Guilherme\", \"telefone\": \"3333-2221\"},\n",
        "    \"giovanna@gmail.com\": {\"nome\": \"Giovanna\", \"telefone\": \"3443-2121\"},\n",
        "    \"chappie@gmail.com\": {\"nome\": \"Chappie\", \"telefone\": \"3344-9871\"},\n",
        "    \"melaine@gmail.com\": {\"nome\": \"Melaine\", \"telefone\": \"3333-7766\"},\n",
        "}\n",
        "\n",
        "contatos.popitem()\n",
        "contatos"
      ]
    },
    {
      "cell_type": "code",
      "execution_count": 30,
      "metadata": {},
      "outputs": [
        {
          "data": {
            "text/plain": [
              "{'anapallomarocha@gmail.com': {'nome': 'Ana Palloma', 'telefone': '3740-0000'},\n",
              " 'guilherme@gmail.com': {'nome': 'Guilherme', 'telefone': '3333-2221'},\n",
              " 'giovanna@gmail.com': {'nome': 'Giovanna', 'telefone': '3443-2121'}}"
            ]
          },
          "execution_count": 30,
          "metadata": {},
          "output_type": "execute_result"
        }
      ],
      "source": [
        "contatos.popitem()\n",
        "contatos"
      ]
    },
    {
      "cell_type": "markdown",
      "metadata": {},
      "source": [
        "**{}.setdefault** <br>\n",
        "* Se a chave já existir no dicionário, setdefault() simplesmente retorna o valor associado a essa chave, sem alterá-lo.\n",
        "* Se a chave não existir, ela é adicionada ao dicionário com o valor padrão especificado (ou None, se nenhum valor for fornecido).\n",
        "* Esse método é particularmente útil em situações em que você deseja inicializar uma chave somente se ela não estiver presente, como ao agregar valores em um dicionário."
      ]
    },
    {
      "cell_type": "code",
      "execution_count": 33,
      "metadata": {},
      "outputs": [
        {
          "data": {
            "text/plain": [
              "'Ana Palloma'"
            ]
          },
          "execution_count": 33,
          "metadata": {},
          "output_type": "execute_result"
        }
      ],
      "source": [
        "contato = {'nome': 'Ana Palloma', 'telefone': '3333-2221'}\n",
        "contato.setdefault(\"nome\", \"Giovanna\")  \n"
      ]
    },
    {
      "cell_type": "code",
      "execution_count": 34,
      "metadata": {},
      "outputs": [
        {
          "data": {
            "text/plain": [
              "{'nome': 'Ana Palloma', 'telefone': '3333-2221', 'idade': 31}"
            ]
          },
          "execution_count": 34,
          "metadata": {},
          "output_type": "execute_result"
        }
      ],
      "source": [
        "contato.setdefault(\"idade\", 31)\n",
        "contato"
      ]
    },
    {
      "cell_type": "markdown",
      "metadata": {},
      "source": [
        "**{}.update**<br><br>\n",
        "Se uma chave já existir no dicionário original, seu valor será atualizado; se a chave não existir, ela será adicionada."
      ]
    },
    {
      "cell_type": "code",
      "execution_count": 37,
      "metadata": {},
      "outputs": [
        {
          "data": {
            "text/plain": [
              "{'anapallomarocha@gmail.com': {'nome': 'Pallominha'}}"
            ]
          },
          "execution_count": 37,
          "metadata": {},
          "output_type": "execute_result"
        }
      ],
      "source": [
        "contatos = {\"anapallomarocha@gmail.com\": {\"nome\": \"Ana Palloma\",\"telefone\": \"3333-2221\"}}\n",
        "contatos.update({\"anapallomarocha@gmail.com\": {\"nome\": \"Pallominha\"}})\n",
        "\n",
        "contatos\n"
      ]
    },
    {
      "cell_type": "markdown",
      "metadata": {},
      "source": [
        "**in**"
      ]
    },
    {
      "cell_type": "code",
      "execution_count": 19,
      "metadata": {},
      "outputs": [],
      "source": [
        "contatos = {\n",
        "    \"anapallomarocha@gmail.com\": {\"nome\": \"Ana Palloma\", \"telefone\": \"3740-0000\"},\n",
        "    \"guilherme@gmail.com\": {\"nome\": \"Guilherme\", \"telefone\": \"3333-2221\"},\n",
        "    \"giovanna@gmail.com\": {\"nome\": \"Giovanna\", \"telefone\": \"3443-2121\"},\n",
        "    \"chappie@gmail.com\": {\"nome\": \"Chappie\", \"telefone\": \"3344-9871\"},\n",
        "    \"melaine@gmail.com\": {\"nome\": \"Melaine\", \"telefone\": \"3333-7766\"},\n",
        "}"
      ]
    },
    {
      "cell_type": "code",
      "execution_count": 14,
      "metadata": {},
      "outputs": [
        {
          "data": {
            "text/plain": [
              "True"
            ]
          },
          "execution_count": 14,
          "metadata": {},
          "output_type": "execute_result"
        }
      ],
      "source": [
        "\"anapallomarocha@gmail.com\" in contatos"
      ]
    },
    {
      "cell_type": "code",
      "execution_count": 15,
      "metadata": {},
      "outputs": [
        {
          "data": {
            "text/plain": [
              "False"
            ]
          },
          "execution_count": 15,
          "metadata": {},
          "output_type": "execute_result"
        }
      ],
      "source": [
        "\"anapalloma@yahoo.com.br\" in contatos"
      ]
    },
    {
      "cell_type": "code",
      "execution_count": 17,
      "metadata": {},
      "outputs": [
        {
          "data": {
            "text/plain": [
              "False"
            ]
          },
          "execution_count": 17,
          "metadata": {},
          "output_type": "execute_result"
        }
      ],
      "source": [
        "\"idade\" in contatos[\"anapallomarocha@gmail.com\"]  "
      ]
    },
    {
      "cell_type": "code",
      "execution_count": 18,
      "metadata": {},
      "outputs": [
        {
          "data": {
            "text/plain": [
              "True"
            ]
          },
          "execution_count": 18,
          "metadata": {},
          "output_type": "execute_result"
        }
      ],
      "source": [
        "\"telefone\" in contatos[\"anapallomarocha@gmail.com\"]  "
      ]
    },
    {
      "cell_type": "markdown",
      "metadata": {},
      "source": [
        "**del**"
      ]
    },
    {
      "cell_type": "code",
      "execution_count": 21,
      "metadata": {},
      "outputs": [
        {
          "data": {
            "text/plain": [
              "{'anapallomarocha@gmail.com': {'nome': 'Ana Palloma', 'telefone': '3740-0000'},\n",
              " 'guilherme@gmail.com': {'nome': 'Guilherme'},\n",
              " 'giovanna@gmail.com': {'nome': 'Giovanna', 'telefone': '3443-2121'},\n",
              " 'chappie@gmail.com': {'nome': 'Chappie', 'telefone': '3344-9871'},\n",
              " 'melaine@gmail.com': {'nome': 'Melaine', 'telefone': '3333-7766'}}"
            ]
          },
          "execution_count": 21,
          "metadata": {},
          "output_type": "execute_result"
        }
      ],
      "source": [
        "contatos = {\n",
        "    \"anapallomarocha@gmail.com\": {\"nome\": \"Ana Palloma\", \"telefone\": \"3740-0000\"},\n",
        "    \"guilherme@gmail.com\": {\"nome\": \"Guilherme\", \"telefone\": \"3333-2221\"},\n",
        "    \"giovanna@gmail.com\": {\"nome\": \"Giovanna\", \"telefone\": \"3443-2121\"},\n",
        "    \"chappie@gmail.com\": {\"nome\": \"Chappie\", \"telefone\": \"3344-9871\"},\n",
        "    \"melaine@gmail.com\": {\"nome\": \"Melaine\", \"telefone\": \"3333-7766\"},\n",
        "}\n",
        "\n",
        "del contatos[\"guilherme@gmail.com\"][\"telefone\"]\n",
        "contatos"
      ]
    },
    {
      "cell_type": "code",
      "execution_count": 22,
      "metadata": {},
      "outputs": [
        {
          "data": {
            "text/plain": [
              "{'anapallomarocha@gmail.com': {'nome': 'Ana Palloma', 'telefone': '3740-0000'},\n",
              " 'guilherme@gmail.com': {'nome': 'Guilherme'},\n",
              " 'giovanna@gmail.com': {'nome': 'Giovanna', 'telefone': '3443-2121'},\n",
              " 'melaine@gmail.com': {'nome': 'Melaine', 'telefone': '3333-7766'}}"
            ]
          },
          "execution_count": 22,
          "metadata": {},
          "output_type": "execute_result"
        }
      ],
      "source": [
        "del contatos[\"chappie@gmail.com\"]\n",
        "contatos"
      ]
    }
  ],
  "metadata": {
    "colab": {
      "provenance": []
    },
    "kernelspec": {
      "display_name": "Python 3",
      "name": "python3"
    },
    "language_info": {
      "codemirror_mode": {
        "name": "ipython",
        "version": 3
      },
      "file_extension": ".py",
      "mimetype": "text/x-python",
      "name": "python",
      "nbconvert_exporter": "python",
      "pygments_lexer": "ipython3",
      "version": "3.12.4"
    }
  },
  "nbformat": 4,
  "nbformat_minor": 0
}
