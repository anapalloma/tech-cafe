{
 "cells": [
  {
   "cell_type": "markdown",
   "metadata": {},
   "source": [
    "1. Mostre-me as seguintes listas, derivadas de:\n",
    "[0,1,2,3,4,5,6,7,8,9,10,11,12,13,14,15]\n",
    "- Intervalo de 1 a 9.\n",
    "- Intervalo de 8 a 13.\n",
    "- Números pares.\n",
    "- Números ímpares.\n",
    "- Todos os múltiplos de 2, 3 e 4.\n",
    "- Lista reversa.\n",
    "- Razão entre a soma do intervalo de 10 a 15 pelo intervalo de 3 a 9 em float!"
   ]
  },
  {
   "cell_type": "markdown",
   "metadata": {},
   "source": [
    "2. Leia uma lista de 5 números inteiros e mostre cada número juntamente com a sua posição na lista."
   ]
  },
  {
   "cell_type": "markdown",
   "metadata": {},
   "source": [
    "3. Leia uma lista de 10 números reais e mostre-os na ordem inversa."
   ]
  },
  {
   "cell_type": "markdown",
   "metadata": {},
   "source": [
    "4. Leia uma lista com 4 notas, em seguida o programa deve exibir as notas e a média."
   ]
  },
  {
   "cell_type": "markdown",
   "metadata": {},
   "source": [
    "5. Leia um lista com 6 idades e exiba a maior e menor."
   ]
  }
 ],
 "metadata": {
  "kernelspec": {
   "display_name": "Python 3",
   "language": "python",
   "name": "python3"
  },
  "language_info": {
   "codemirror_mode": {
    "name": "ipython",
    "version": 3
   },
   "file_extension": ".py",
   "mimetype": "text/x-python",
   "name": "python",
   "nbconvert_exporter": "python",
   "pygments_lexer": "ipython3",
   "version": "3.12.4"
  }
 },
 "nbformat": 4,
 "nbformat_minor": 2
}
