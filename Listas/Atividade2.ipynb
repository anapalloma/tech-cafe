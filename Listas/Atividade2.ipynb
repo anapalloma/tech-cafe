{
 "cells": [
  {
   "cell_type": "markdown",
   "metadata": {},
   "source": [
    "1. Faça um programa que leia 5 valores númericos e guarde-os em em uma lista. <br> <br>\n",
    "No final, mostre qual foi o maior e o menor valor digitado e as suas respectivas posições na lista."
   ]
  },
  {
   "cell_type": "markdown",
   "metadata": {},
   "source": [
    "2. Crie um programa onde o usuário possa digitar vários valores númericos e cadastre-os em uma lista. Caso o número já exista lá dentro, ele não será adicionado. No final, serão exibidos todos os valores únicos digitados, em ordem crescente."
   ]
  },
  {
   "cell_type": "markdown",
   "metadata": {},
   "source": [
    "3. Crie um programa que vai ler vários números e colocar em uma lista.Depois disso, mostre:\n",
    "\n",
    "A) Quantos números foram digitados.\n",
    "\n",
    "B) A lista ordenada de forma decrescente.\n",
    "\n",
    "C) Se o valor 5 foi digitado e se está ou não na lista."
   ]
  }
 ],
 "metadata": {
  "language_info": {
   "name": "python"
  }
 },
 "nbformat": 4,
 "nbformat_minor": 2
}
