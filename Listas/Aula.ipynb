{
  "cells": [
    {
      "cell_type": "markdown",
      "metadata": {
        "id": "mIyK4p1xpp7D"
      },
      "source": [
        "# **Listas - Parte I**"
      ]
    },
    {
      "cell_type": "markdown",
      "metadata": {
        "id": "4URHTFXUp3QJ"
      },
      "source": [
        "# Criação e acesso aos dados"
      ]
    },
    {
      "cell_type": "markdown",
      "metadata": {
        "id": "_xoI1NWIqC7B"
      },
      "source": [
        "Listas em Python podem armazenar de maneira sequencial **qualquer tipo de objeto**. Listas são objetos mutáveis, portanto podemos alterar seus valores após a criação. Podemos criar listas utilizando:"
      ]
    },
    {
      "cell_type": "code",
      "execution_count": 4,
      "metadata": {
        "id": "kupJik4fqut8"
      },
      "outputs": [],
      "source": [
        "# Colocando valores separados por vírgula dentro de colchetes\n",
        "carro = [\"Corsa\", 2010, 28500.98, \"Minas Gerais\", True]\n",
        "\n",
        "frutas = [\"laranja\", \"maca\", \"uva\"]\n",
        "\n",
        "compras = []"
      ]
    },
    {
      "cell_type": "code",
      "execution_count": 3,
      "metadata": {
        "id": "tmQr-ciuqIsX"
      },
      "outputs": [],
      "source": [
        "# Utilizando o constutor List\n",
        "letras = list(\"python\")"
      ]
    },
    {
      "cell_type": "code",
      "execution_count": null,
      "metadata": {
        "id": "6f7o08nWrFPK"
      },
      "outputs": [],
      "source": [
        "# Utilizando a função range\n",
        "numeros = list(range(10))"
      ]
    },
    {
      "cell_type": "markdown",
      "metadata": {
        "id": "XKCPSX73r5qn"
      },
      "source": [
        "# Acesso direto"
      ]
    },
    {
      "cell_type": "markdown",
      "metadata": {
        "id": "Op3LSRehr7vf"
      },
      "source": [
        "A lista é uma sequência, portanto podemos acessar seus dados\n",
        "utilizando índices. Contamos o índice de determinada\n",
        "sequência a partir do zero"
      ]
    },
    {
      "cell_type": "code",
      "execution_count": null,
      "metadata": {
        "id": "IEiaa0iVr-SS"
      },
      "outputs": [],
      "source": [
        "frutas = [\"maçã\", \"laranja\", \"uva\", \"pera\"]\n",
        "frutas[0] # maçã\n",
        "frutas[2] # uva"
      ]
    },
    {
      "cell_type": "markdown",
      "metadata": {
        "id": "hpEgLM42sH8w"
      },
      "source": [
        "# Índices negativos"
      ]
    },
    {
      "cell_type": "markdown",
      "metadata": {
        "id": "UD2FTYrPsPMq"
      },
      "source": [
        "Sequências suportam indexação negativa. A contagem começa\n",
        "em -1."
      ]
    },
    {
      "cell_type": "code",
      "execution_count": null,
      "metadata": {
        "id": "FL00WbvxsUfx"
      },
      "outputs": [],
      "source": [
        "frutas = [\"maçã\", \"laranja\", \"uva\", \"pera\"]\n",
        "frutas[-1] # pera\n",
        "frutas[-3] # laranja"
      ]
    },
    {
      "cell_type": "markdown",
      "metadata": {
        "id": "pVN7AX_Osb2n"
      },
      "source": [
        "# Listas aninhadas"
      ]
    },
    {
      "cell_type": "markdown",
      "metadata": {
        "id": "7ns3415asebK"
      },
      "source": [
        "Listas podem armazenar todos os tipos de objetos Python,\n",
        "portanto podemos ter listas que armazenam outras listas. Com\n",
        "isso podemos criar estruturas bidimensionais (tabelas), e\n",
        "acessar informando os índices de linha e coluna"
      ]
    },
    {
      "cell_type": "code",
      "execution_count": null,
      "metadata": {
        "id": "EwQ80nH-skbx"
      },
      "outputs": [],
      "source": [
        "matriz = [\n",
        "[1, \"a\", 2],\n",
        "[\"b\", 3, 4],\n",
        "[6, 5, \"c\"]\n",
        "]\n",
        "\n",
        "matriz[0] # [1, \"a\", 2]\n",
        "matriz[0][0] # 1\n",
        "matriz[0][-1] # 2\n",
        "matriz[-1][-1] # \"c\""
      ]
    },
    {
      "cell_type": "markdown",
      "metadata": {
        "id": "XX-mnYICsmYC"
      },
      "source": [
        "# Fatiamento"
      ]
    },
    {
      "cell_type": "markdown",
      "metadata": {
        "id": "wh56Obawspf1"
      },
      "source": [
        "Além de acessar elementos diretamente, podemos extrair um\n",
        "conjunto de valores de uma sequência. Para isso basta passar\n",
        "o índice inicial e/ou final para acessar o conjunto. Podemos\n",
        "ainda informar quantas posições o cursor deve \"pular\" no\n",
        "acesso."
      ]
    },
    {
      "cell_type": "code",
      "execution_count": null,
      "metadata": {
        "id": "TLV-A_eAssa8"
      },
      "outputs": [],
      "source": [
        "lista = [\"p\", \"y\", \"t\", \"h\", \"o\", \"n\"]\n",
        "\n",
        "lista[2:] # [\"t\", \"h\", \"o\", \"n\"]\n",
        "lista[:2] # [\"p\", \"y\"]\n",
        "lista[1:3] # [\"y\", \"t\"]\n",
        "lista[0:3:2] # [\"p\", \"t\"]\n",
        "lista[::] # [\"p\", \"y\", \"t\", \"h\", \"o\", \"n\"]\n",
        "lista[::-1] # [\"n\", \"o\", \"h\", \"t\", \"y\", \"p\"]"
      ]
    },
    {
      "cell_type": "markdown",
      "metadata": {
        "id": "h1qyosPlsxKi"
      },
      "source": [
        "# Iterar listas"
      ]
    },
    {
      "cell_type": "markdown",
      "metadata": {
        "id": "P57_JjFds1pa"
      },
      "source": [
        "A forma mais comum para percorrer os dados de uma lista é\n",
        "utilizando o comando for."
      ]
    },
    {
      "cell_type": "code",
      "execution_count": null,
      "metadata": {
        "id": "ddg2KiTRs54f"
      },
      "outputs": [],
      "source": [
        "carros = [\"gol\", \"celta\", \"palio\"]\n",
        "\n",
        "for carro in carros:\n",
        "  print(carro)"
      ]
    },
    {
      "cell_type": "markdown",
      "metadata": {
        "id": "fKIg6DDEs8l_"
      },
      "source": [
        "# Função enumerate"
      ]
    },
    {
      "cell_type": "markdown",
      "metadata": {
        "id": "gVpZOifAtAJq"
      },
      "source": [
        "Às vezes é necessário saber qual o índice do objeto dentro do\n",
        "laço for. Para isso podemos usar a função enumerate."
      ]
    },
    {
      "cell_type": "code",
      "execution_count": 10,
      "metadata": {
        "colab": {
          "base_uri": "https://localhost:8080/"
        },
        "id": "3P_3UYJmtEjh",
        "outputId": "af500d8e-ca71-45a8-c7ea-d185e08d5d38"
      },
      "outputs": [
        {
          "name": "stdout",
          "output_type": "stream",
          "text": [
            "0: gol\n",
            "1: celta\n",
            "2: palio\n"
          ]
        }
      ],
      "source": [
        "carros = [\"gol\", \"celta\", \"palio\"]\n",
        "\n",
        "for indice, carro in enumerate(carros):\n",
        "  print(f\"{indice}: {carro}\")"
      ]
    },
    {
      "cell_type": "markdown",
      "metadata": {
        "id": "ke-6Bwz0tQcH"
      },
      "source": [
        "# Compreensão de listas"
      ]
    },
    {
      "cell_type": "markdown",
      "metadata": {
        "id": "YhVALDpTtY6q"
      },
      "source": [
        "A compreensão de lista oferece uma sintaxe mais curta\n",
        "quando você deseja:\n",
        "*   criar uma nova lista com base nos valores de uma lista existente (filtro);\n",
        "*   gerar uma nova lista aplicando alguma modificação nos elementos de uma lista existente."
      ]
    },
    {
      "cell_type": "code",
      "execution_count": null,
      "metadata": {
        "id": "R3tXyfUdtlLB"
      },
      "outputs": [],
      "source": [
        "numeros = [1, 30, 21, 2, 9, 65, 34]\n",
        "pares = []\n",
        "\n",
        "for numero in numeros:\n",
        "  if numero % 2 == 0:\n",
        "    pares.append(numero)"
      ]
    },
    {
      "cell_type": "code",
      "execution_count": null,
      "metadata": {
        "id": "g0_sL7l0tt2Q"
      },
      "outputs": [],
      "source": [
        "numeros = [1, 30, 21, 2, 9, 65, 34]\n",
        "quadrado = []\n",
        "\n",
        "for numero in numeros:\n",
        "  quadrado.append(numero ** 2)"
      ]
    }
  ],
  "metadata": {
    "colab": {
      "provenance": []
    },
    "kernelspec": {
      "display_name": "Python 3",
      "name": "python3"
    },
    "language_info": {
      "name": "python"
    }
  },
  "nbformat": 4,
  "nbformat_minor": 0
}
