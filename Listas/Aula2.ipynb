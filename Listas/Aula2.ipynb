{
 "cells": [
  {
   "cell_type": "markdown",
   "metadata": {},
   "source": [
    "# Métodos da classe List"
   ]
  },
  {
   "cell_type": "markdown",
   "metadata": {},
   "source": [
    "**[].append** = adiciona um novo elemento ao final da lista."
   ]
  },
  {
   "cell_type": "code",
   "execution_count": 1,
   "metadata": {},
   "outputs": [
    {
     "name": "stdout",
     "output_type": "stream",
     "text": [
      "[1, 'Python', [40, 30, 20]]\n"
     ]
    }
   ],
   "source": [
    "lista = []\n",
    "lista.append(1)\n",
    "lista.append(\"Python\")\n",
    "lista.append([40, 30, 20])\n",
    "print(lista) # [1, \"Python\", [40, 30, 20]]"
   ]
  },
  {
   "cell_type": "markdown",
   "metadata": {},
   "source": [
    "**[].extend** = adiciona vários elementos, de uma vez, ao fim da lista."
   ]
  },
  {
   "cell_type": "code",
   "execution_count": 11,
   "metadata": {},
   "outputs": [
    {
     "name": "stdout",
     "output_type": "stream",
     "text": [
      "['python', 'js', 'c', 'java', 'csharp']\n"
     ]
    }
   ],
   "source": [
    "linguagens = [\"python\", \"js\", \"c\"]\n",
    "linguagens.extend([\"java\", \"csharp\"])\n",
    "print(linguagens)"
   ]
  },
  {
   "cell_type": "markdown",
   "metadata": {},
   "source": [
    "**[].clear** = remove todos os elementos da lista, deixando-a vazia."
   ]
  },
  {
   "cell_type": "code",
   "execution_count": 2,
   "metadata": {},
   "outputs": [
    {
     "name": "stdout",
     "output_type": "stream",
     "text": [
      "[]\n"
     ]
    }
   ],
   "source": [
    "lista.clear()\n",
    "print(lista)"
   ]
  },
  {
   "cell_type": "markdown",
   "metadata": {},
   "source": [
    "**[].copy** =  Retorna uma nova lista com os mesmos elementos da original, mas sem modificar a lista original."
   ]
  },
  {
   "cell_type": "code",
   "execution_count": 3,
   "metadata": {},
   "outputs": [
    {
     "name": "stdout",
     "output_type": "stream",
     "text": [
      "[7, 2, 3, 4]\n",
      "[7, 2, 3, 4]\n"
     ]
    }
   ],
   "source": [
    "# Forma errada (cria uma ligação entre as listas)\n",
    "\n",
    "a = [1,2,3,4]\n",
    "b = a\n",
    "\n",
    "b[0] = 7\n",
    "\n",
    "print(a)\n",
    "print(b)"
   ]
  },
  {
   "cell_type": "code",
   "execution_count": 4,
   "metadata": {},
   "outputs": [
    {
     "name": "stdout",
     "output_type": "stream",
     "text": [
      "[1, 'Python', [40, 30, 20]]\n",
      "['Teste', 'Python', [40, 30, 20]]\n"
     ]
    }
   ],
   "source": [
    "# Forma certa\n",
    "\n",
    "a = [1, \"Python\", [40, 30, 20]]\n",
    "b = a.copy()\n",
    "b[0] = \"Teste\"\n",
    "\n",
    "print(a)\n",
    "print(b)"
   ]
  },
  {
   "cell_type": "markdown",
   "metadata": {},
   "source": [
    "**[].count** = retorna o número de vezes que um determinado valor aparece na lista."
   ]
  },
  {
   "cell_type": "code",
   "execution_count": 6,
   "metadata": {},
   "outputs": [],
   "source": [
    "cores = [\"vermelho\", \"azul\", \"verde\", \"azul\"]"
   ]
  },
  {
   "cell_type": "code",
   "execution_count": 7,
   "metadata": {},
   "outputs": [
    {
     "data": {
      "text/plain": [
       "1"
      ]
     },
     "execution_count": 7,
     "metadata": {},
     "output_type": "execute_result"
    }
   ],
   "source": [
    "cores.count(\"vermelho\")"
   ]
  },
  {
   "cell_type": "code",
   "execution_count": 8,
   "metadata": {},
   "outputs": [
    {
     "data": {
      "text/plain": [
       "2"
      ]
     },
     "execution_count": 8,
     "metadata": {},
     "output_type": "execute_result"
    }
   ],
   "source": [
    "cores.count(\"azul\")"
   ]
  },
  {
   "cell_type": "code",
   "execution_count": 9,
   "metadata": {},
   "outputs": [
    {
     "data": {
      "text/plain": [
       "1"
      ]
     },
     "execution_count": 9,
     "metadata": {},
     "output_type": "execute_result"
    }
   ],
   "source": [
    "cores.count(\"verde\") "
   ]
  },
  {
   "cell_type": "markdown",
   "metadata": {},
   "source": [
    "**[].index** =  retorna o índice da primeira ocorrência de um valor especificado. Se o valor não for encontrado, ele gera um erro (ValueError)."
   ]
  },
  {
   "cell_type": "code",
   "execution_count": null,
   "metadata": {},
   "outputs": [],
   "source": [
    "linguagens = [\"python\", \"js\", \"c\", \"java\", \"csharp\"]\n",
    "linguagens.index(\"java\") # 3\n",
    "linguagens.index(\"python\") # 0"
   ]
  },
  {
   "cell_type": "markdown",
   "metadata": {},
   "source": [
    "**[].pop** = Remove e retorna o último elemento da lista, se nenhum índice for fornecido."
   ]
  },
  {
   "cell_type": "code",
   "execution_count": null,
   "metadata": {},
   "outputs": [],
   "source": [
    "linguagens = [\"python\", \"js\", \"c\", \"java\", \"csharp\"]\n",
    "linguagens.pop() # csharp\n",
    "linguagens.pop() # java\n",
    "linguagens.pop() # c\n",
    "linguagens.pop(0) # python"
   ]
  },
  {
   "cell_type": "markdown",
   "metadata": {},
   "source": [
    "**[].remove** = remove a primeira ocorrência de um VALOR especificado. Se o valor não estiver presente na lista, gera um erro."
   ]
  },
  {
   "cell_type": "code",
   "execution_count": null,
   "metadata": {},
   "outputs": [],
   "source": [
    "linguagens = [\"python\", \"js\", \"c\", \"java\", \"csharp\"]\n",
    "linguagens.remove(\"c\")\n",
    "print(linguagens) # [\"python\", \"js\", \"java\", \"csharp\"]"
   ]
  },
  {
   "cell_type": "markdown",
   "metadata": {},
   "source": [
    "**[].reverse** = inverte a ordem dos elementos da lista. "
   ]
  },
  {
   "cell_type": "code",
   "execution_count": null,
   "metadata": {},
   "outputs": [],
   "source": [
    "linguagens = [\"python\", \"js\", \"c\", \"java\", \"csharp\"]\n",
    "linguagens.reverse()\n",
    "print(linguagens) # [\"csharp\", \"java\", \"c\", \"js\", \"python\"]"
   ]
  },
  {
   "cell_type": "markdown",
   "metadata": {},
   "source": [
    "**[].sort** = organiza os elementos da lista em ordem crescente por padrão, modificando a lista original. Também permite ordenar os elementos em ordem decrescente."
   ]
  },
  {
   "cell_type": "code",
   "execution_count": null,
   "metadata": {},
   "outputs": [],
   "source": [
    "linguagens = [\"python\", \"js\", \"c\", \"java\", \"csharp\"]\n",
    "linguagens.sort() # [\"c\", \"csharp\", \"java\", \"js\", \"python\"]\n",
    "\n",
    "linguagens = [\"python\", \"js\", \"c\", \"java\", \"csharp\"]\n",
    "linguagens.sort(reverse=True) # [\"python\", \"js\", \"java\", \"csharp\", \"c\"]"
   ]
  },
  {
   "cell_type": "markdown",
   "metadata": {},
   "source": [
    "**sorted** = retorna uma nova lista contendo todos os elementos da lista, ordenados em ordem crescente. Essa função não modifica a lista original e pode aceitar parâmetros adicionais para personalizar a ordenação."
   ]
  },
  {
   "cell_type": "code",
   "execution_count": 13,
   "metadata": {},
   "outputs": [
    {
     "data": {
      "text/plain": [
       "['c', 'csharp', 'java', 'js', 'python']"
      ]
     },
     "execution_count": 13,
     "metadata": {},
     "output_type": "execute_result"
    }
   ],
   "source": [
    "linguagens = [\"python\", \"js\", \"c\", \"java\", \"csharp\"]\n",
    "sorted(linguagens)"
   ]
  },
  {
   "cell_type": "code",
   "execution_count": 14,
   "metadata": {},
   "outputs": [
    {
     "data": {
      "text/plain": [
       "['python', 'js', 'java', 'csharp', 'c']"
      ]
     },
     "execution_count": 14,
     "metadata": {},
     "output_type": "execute_result"
    }
   ],
   "source": [
    "sorted(linguagens,reverse = True)"
   ]
  },
  {
   "cell_type": "markdown",
   "metadata": {},
   "source": [
    "**len** =  retorna o número de itens presentes na lista."
   ]
  },
  {
   "cell_type": "code",
   "execution_count": null,
   "metadata": {},
   "outputs": [],
   "source": [
    "linguagens = [\"python\", \"js\", \"c\", \"java\", \"csharp\"]\n",
    "len(linguagens) # 5"
   ]
  },
  {
   "cell_type": "code",
   "execution_count": null,
   "metadata": {},
   "outputs": [],
   "source": []
  }
 ],
 "metadata": {
  "kernelspec": {
   "display_name": "Python 3",
   "language": "python",
   "name": "python3"
  },
  "language_info": {
   "codemirror_mode": {
    "name": "ipython",
    "version": 3
   },
   "file_extension": ".py",
   "mimetype": "text/x-python",
   "name": "python",
   "nbconvert_exporter": "python",
   "pygments_lexer": "ipython3",
   "version": "3.12.4"
  }
 },
 "nbformat": 4,
 "nbformat_minor": 2
}
