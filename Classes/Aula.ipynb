{
 "cells": [
  {
   "cell_type": "markdown",
   "metadata": {},
   "source": [
    "# **Programação orientada a objetos**"
   ]
  },
  {
   "cell_type": "markdown",
   "metadata": {},
   "source": [
    "Ao invés de programar de forma estruturada (utilizando estruturas de controle como sequências, decisões e loops), a programação é divida em duas partes:\n",
    "- Na primeira parte criamos os nossos objetos (classes);\n",
    "- Na segunda parte do código, usamos essas classes pra fazer as coisas que precisamos fazer."
   ]
  },
  {
   "cell_type": "markdown",
   "metadata": {},
   "source": [
    "Em vez de sair criando vários clientes e vários produtos (atribuindo-os a variáveis), criamos classes que vão dizer o que deve ter de informação dentro de um cliente e/ou como um produto funciona. Depois, só colocamos essas duas coisas para interagir entre si, de uma forma mais organizada."
   ]
  },
  {
   "cell_type": "code",
   "execution_count": null,
   "metadata": {},
   "outputs": [],
   "source": [
    "class Clientes(): # Utilizo a classe cliente pra criar vários clientes\n",
    "    pass\n",
    "\n",
    "class Produtos(): # Utilizo a classe Produtos pra criar vários produtos\n",
    "    pass"
   ]
  },
  {
   "cell_type": "markdown",
   "metadata": {},
   "source": [
    "**Dica 1:** Quando você constrói um código simples, pra resolver um desafio específico, vc normalmente não precisa de classes. Mas, se você for construir um sistema, um site, um jogo, ou algo maior, provavelmente, você vai precisar de classes; porque você vai precisar criar as REGRAS do seu sistema, as regras de como seu site tem que funcionar."
   ]
  },
  {
   "cell_type": "markdown",
   "metadata": {},
   "source": [
    "**Dica 2**: Dizemos que a programação é orientada a objeto, porque precisamos primeiro criar as classes para depois utilizá-las."
   ]
  },
  {
   "cell_type": "markdown",
   "metadata": {},
   "source": [
    "# **Exemplo** \n",
    "**Objeto:** controle remoto.<br>\n",
    "**Caracterísiticas/atributos:** cor, altura, profundidade, largura, etc. <br>\n",
    "**Métodos:** passar canal, aumentar volume, diminuir volume, etc.\n"
   ]
  },
  {
   "cell_type": "code",
   "execution_count": null,
   "metadata": {},
   "outputs": [
    {
     "name": "stdout",
     "output_type": "stream",
     "text": [
      "cinza\n"
     ]
    }
   ],
   "source": [
    "class ControleRemoto():\n",
    "    #A função init inicializa a classe,sendo que as características do objeto precisar ser criadas dentro dessa função\n",
    "    def __init__(self, cor, altura, profundidade, largura): \n",
    "        self.cor = cor\n",
    "        self.altura = altura\n",
    "        self.profundidade = profundidade\n",
    "        self.largura = largura\n",
    "    \n",
    "    def passar_canal(self, botao):\n",
    "        if botao == '+':\n",
    "            print('Aumentar o canal')\n",
    "        elif botao == '-':\n",
    "            print('Diminuir o canal')\n",
    "\n",
    "# Instânciando as classes\n",
    "controle_ics = ControleRemoto(cor='preto', altura=0.50, profundidade=0.3, largura=0.10)\n",
    "controle_ana = ControleRemoto(cor='cinza', altura=0.45, profundidade=0.3, largura=0.10)\n",
    "controle_kaua = ControleRemoto(cor='branco', altura=0.60, profundidade=0.3, largura=0.10)\n",
    "\n",
    "# Acessando uma característica do objeto\n",
    "print(controle_ana.cor) # Observem que quando chamamos uma característica não há parênteses no final\n",
    "\n",
    "# Chamando os métodos do objeto\n",
    "controle_ics.passar_canal(botao = '+')\n"
   ]
  },
  {
   "cell_type": "markdown",
   "metadata": {},
   "source": [
    "# **Desafio de código**\n",
    "\n",
    "**Passo 1: Criando a Classe Netflix**<br>\n",
    "\n",
    "Você deve criar uma classe chamada Netflix que tenha os seguintes atributos (características) e métodos (ações):\n",
    "Atributos:\n",
    "\n",
    "    nome_usuario (string): o nome do usuário que criou a conta.\n",
    "    email (string): o email do usuário.\n",
    "    plano_assinatura (string): pode ser \"Básico\", \"Padrão\" ou \"Premium\".\n",
    "    historico_visualizacao (lista): uma lista que vai armazenar os títulos que o usuário já assistiu.\n",
    "    saldo (float): o valor que o usuário tem como saldo para pagar a assinatura.\n",
    "\n",
    "Métodos:\n",
    "\n",
    "    init: O método inicializador que define os atributos iniciais do objeto.\n",
    "    mostrar_dados_usuario(): Exibe na tela o nome do usuário, o email e o plano de assinatura.\n",
    "    adicionar_titulo(titulo): Adiciona um título (filme ou série) ao histórico de visualização.\n",
    "    mostrar_historico(): Mostra todos os títulos que o usuário já assistiu.\n",
    "    alterar_plano(novo_plano): Permite ao usuário mudar o plano de assinatura para outro dos disponíveis (Básico, Padrão, Premium).\n",
    "    pagar_assinatura(valor): Adiciona saldo à conta para que o usuário possa pagar a assinatura. O saldo será descontado automaticamente toda vez que o plano for alterado. Os valores dos planos são:\n",
    "        Básico: R$ 19,90\n",
    "        Padrão: R$ 39,90\n",
    "        Premium: R$ 55,90\n",
    "    verificar_saldo(): Mostra quanto de saldo o usuário ainda tem.\n",
    "\n",
    "**Passo 2: Criando e Testando Instâncias**<br>\n",
    "\n",
    "Depois de criar a classe, você deve criar instâncias (objetos) da classe Netflix. Aqui estão algumas ideias:\n",
    "\n",
    "    Crie um objeto para um usuário chamado João com email \"joao@email.com\", plano \"Básico\" e saldo inicial de R$ 50,00.\n",
    "    Mostre os dados do João.\n",
    "    João assistiu a um filme chamado \"Vingadores: Ultimato\". Adicione esse título ao histórico dele.\n",
    "    Mostre o histórico de visualização do João.\n",
    "    João decidiu mudar seu plano para \"Premium\". Altere o plano dele e subtraia o valor correspondente do saldo.\n",
    "    Mostre o saldo atualizado do João."
   ]
  }
 ],
 "metadata": {
  "kernelspec": {
   "display_name": "Python 3",
   "language": "python",
   "name": "python3"
  },
  "language_info": {
   "codemirror_mode": {
    "name": "ipython",
    "version": 3
   },
   "file_extension": ".py",
   "mimetype": "text/x-python",
   "name": "python",
   "nbconvert_exporter": "python",
   "pygments_lexer": "ipython3",
   "version": "3.12.4"
  }
 },
 "nbformat": 4,
 "nbformat_minor": 2
}
